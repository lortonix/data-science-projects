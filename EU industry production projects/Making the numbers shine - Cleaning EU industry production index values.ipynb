{
 "cells": [
  {
   "cell_type": "markdown",
   "metadata": {},
   "source": [
    "I read in the tidy dataframe that I produced in the previous project and stored as a pickled file from disk, using the \"read_pickle()\" method:"
   ]
  },
  {
   "cell_type": "code",
   "execution_count": 2,
   "metadata": {
    "collapsed": true
   },
   "outputs": [],
   "source": [
    "import pandas as pd\n",
    "df = pd.read_pickle('EU_industry_production_dataframe.pkl')"
   ]
  },
  {
   "cell_type": "markdown",
   "metadata": {},
   "source": [
    "As a reminder, this is how the dataframe looks like:"
   ]
  },
  {
   "cell_type": "code",
   "execution_count": 3,
   "metadata": {},
   "outputs": [
    {
     "name": "stdout",
     "output_type": "stream",
     "text": [
      "<class 'pandas.core.frame.DataFrame'>\n",
      "MultiIndex: 27936 entries, (1953-01-01 00:00:00, AT) to (2017-08-01 00:00:00, UK)\n",
      "Data columns (total 1 columns):\n",
      "production_index    27936 non-null object\n",
      "dtypes: object(1)\n",
      "memory usage: 306.5+ KB\n",
      "                        production_index\n",
      "time       country_code                 \n",
      "1953-01-01 AT                          :\n",
      "           BA                          :\n",
      "           BE                          :\n",
      "           BG                          :\n",
      "           CY                          :\n"
     ]
    }
   ],
   "source": [
    "df.info()\n",
    "print(df.head())"
   ]
  },
  {
   "cell_type": "markdown",
   "metadata": {},
   "source": [
    "The \"production_index\" column thus consists of string (\"non-null object\") values.\n",
    "\n",
    "To see what these values are, let's have a look at the most recent \"production_index\" values for Austria (country code 'AT') - say the last year. Because I want to specify a range in the time component, I have to apply \"slice()\" with the beginning and the end (inclusive) of the period inside the \"loc()\" method:"
   ]
  },
  {
   "cell_type": "code",
   "execution_count": 4,
   "metadata": {},
   "outputs": [
    {
     "name": "stdout",
     "output_type": "stream",
     "text": [
      "                        production_index\n",
      "time       country_code                 \n",
      "2016-09-01 AT                     113.7 \n",
      "2016-10-01 AT                     114.7 \n",
      "2016-11-01 AT                     116.4 \n",
      "2016-12-01 AT                     115.6 \n",
      "2017-01-01 AT                     113.2 \n",
      "2017-02-01 AT                     116.5 \n",
      "2017-03-01 AT                     117.5 \n",
      "2017-04-01 AT                     117.6 \n",
      "2017-05-01 AT                     117.3 \n",
      "2017-06-01 AT                     118.2 \n",
      "2017-07-01 AT                    119.9 p\n",
      "2017-08-01 AT                         : \n"
     ]
    }
   ],
   "source": [
    "print(df.loc[(slice('2016-09','2017-08'),'AT'),:])"
   ]
  },
  {
   "cell_type": "markdown",
   "metadata": {},
   "source": [
    "In this selection, most values are floating-point numbers, as one would expect of an index. The penultimate value, however, contains the letter \"p\". What does that mean?\n",
    "\n",
    "A quick look at the interactive online table version (http://appsso.eurostat.ec.europa.eu/nui/show.do?dataset=sts_inpr_m&lang=en) of the dataset (notably, this info is not in the metadata...) reveals the nature of these letters:\n",
    "\n",
    "\"Available flags:\n",
    "b \tbreak in time series \tc \tconfidential \td \tdefinition differs, see metadata\n",
    "e \testimated \tf \tforecast \ti \tsee metadata (phased out)\n",
    "n \tnot significant \tp \tprovisional \tr \trevised\n",
    "s \tEurostat estimate (phased out) \tu \tlow reliability \tz \tnot applicable\"\n",
    "\n",
    "Thus the \"p\" marks a provisional value, in contrast to the confirmed values without this flag.\n",
    "\n",
    "The last value in the selection, a colon, stands for a missing value:\n",
    "\n",
    "\"Special value:\n",
    ": not available\"\n",
    "\n",
    "To clean up the production index values, the flags should be identified and moved to their own column (so that I don't lose the information), the remaining numbers converted into floats, and the colons replaced by \"NaN\" values.\n",
    "\n",
    "I start with extracting the flags from the production index values. I do this using regular expressions (http://www.regular-expressions.info/reference.html) and the Python package \"re\". The string values with flags, e.g., '119.9 p', follow a particular pattern that can be translated into a regular expression: one or more digits ('\\d+'), maybe followed by a decimal point ('.?') and another digit ('\\d?'), zero or more spaces ('\\s*')* and a group of flags as lowercase letters ('([a-z]+)'). Concatenating all these strings yields the pattern string, which has to be passed to the \"re.compile()\" method to define a pattern that can be understood by the \"re\" package:"
   ]
  },
  {
   "cell_type": "code",
   "execution_count": 5,
   "metadata": {
    "collapsed": true
   },
   "outputs": [],
   "source": [
    "import re  # Package for regular expressions\n",
    "flag_pattern = re.compile('\\d+.?\\d?\\s*([a-z]+)')  # Define pattern to match"
   ]
  },
  {
   "cell_type": "markdown",
   "metadata": {},
   "source": [
    "Now I define a function that checks if a string matches \"flag_pattern\" and returns the matching flags:"
   ]
  },
  {
   "cell_type": "code",
   "execution_count": 6,
   "metadata": {
    "collapsed": true
   },
   "outputs": [],
   "source": [
    "def get_flags(string_value):\n",
    "    '''Returns lower-case letter flags (as string) from a production index string value'''\n",
    "    match = flag_pattern.match(string_value)\n",
    "    if bool(match):\n",
    "        return match.group(1)  # Returns first matching group\n",
    "    else:\n",
    "        return ''              # Else return empty string"
   ]
  },
  {
   "cell_type": "markdown",
   "metadata": {},
   "source": [
    "I need to pass this function to the \"apply()\" method of the dataframe in order to apply it to all rows and store the results in a new \"flags\" column:"
   ]
  },
  {
   "cell_type": "code",
   "execution_count": 7,
   "metadata": {},
   "outputs": [
    {
     "name": "stdout",
     "output_type": "stream",
     "text": [
      "                        production_index flags\n",
      "time       country_code                       \n",
      "2016-09-01 AT                     113.7       \n",
      "2016-10-01 AT                     114.7       \n",
      "2016-11-01 AT                     116.4       \n",
      "2016-12-01 AT                     115.6       \n",
      "2017-01-01 AT                     113.2       \n",
      "2017-02-01 AT                     116.5       \n",
      "2017-03-01 AT                     117.5       \n",
      "2017-04-01 AT                     117.6       \n",
      "2017-05-01 AT                     117.3       \n",
      "2017-06-01 AT                     118.2       \n",
      "2017-07-01 AT                    119.9 p     p\n",
      "2017-08-01 AT                         :       \n"
     ]
    }
   ],
   "source": [
    "df['flags'] = df['production_index'].apply(get_flags)\n",
    "print(df.loc[(slice('2016-09','2017-08'),'AT'),:])"
   ]
  },
  {
   "cell_type": "markdown",
   "metadata": {},
   "source": [
    "How many different flag combinations are there? To find out, let's use the \"unique()\" method:"
   ]
  },
  {
   "cell_type": "code",
   "execution_count": 8,
   "metadata": {},
   "outputs": [
    {
     "name": "stdout",
     "output_type": "stream",
     "text": [
      "['' 's' 'p']\n"
     ]
    }
   ],
   "source": [
    "print(df['flags'].unique())"
   ]
  },
  {
   "cell_type": "markdown",
   "metadata": {},
   "source": [
    "So there are three different flag combinations:\n",
    "'': no flags\n",
    "'p': provisional\n",
    "'s': Eurostat estimate (phased out)\n",
    "\n",
    "These strings mark distinct categories.\n",
    "\n",
    "It is thus natural to convert the flag strings into categorical values. I can then look at the \"categories\" attribute to confirm the number of categories:"
   ]
  },
  {
   "cell_type": "code",
   "execution_count": 9,
   "metadata": {},
   "outputs": [
    {
     "name": "stdout",
     "output_type": "stream",
     "text": [
      "Index(['', 'p', 's'], dtype='object')\n"
     ]
    }
   ],
   "source": [
    "df['flags'] = df['flags'].astype('category')\n",
    "print(df['flags'].cat.categories)"
   ]
  },
  {
   "cell_type": "markdown",
   "metadata": {},
   "source": [
    "As a next step, I extract the actual numbers from the value strings and replace the colon with a NaN value. I can do this again using regular expressions and a extraction/conversion function:"
   ]
  },
  {
   "cell_type": "code",
   "execution_count": 10,
   "metadata": {
    "collapsed": true
   },
   "outputs": [],
   "source": [
    "import numpy as np  # Needed for NaN values\n",
    "\n",
    "number_pattern = re.compile('(\\d+.?\\d?)\\s*[a-z]*')  # Number group followed by zero or more flags\n",
    "nan_pattern = re.compile(':')                       # Missing value\n",
    "\n",
    "def get_number(string_value):\n",
    "    '''Returns production index value (as float) from a production index string value'''\n",
    "    if bool(nan_pattern.match(string_value)):\n",
    "        return np.nan\n",
    "    else:\n",
    "        match = number_pattern.match(string_value)\n",
    "        if bool(match):\n",
    "            return float(match.group(1))  # Returns first (and only) matching group\n",
    "        else:\n",
    "            print(string_value)           # Or raises error if there is no match\n",
    "            raise ValueError('Production index value string does not match number pattern')"
   ]
  },
  {
   "cell_type": "markdown",
   "metadata": {},
   "source": [
    "I apply the \"get_number()\" function to the \"industry_production\" column:"
   ]
  },
  {
   "cell_type": "code",
   "execution_count": 11,
   "metadata": {},
   "outputs": [
    {
     "name": "stdout",
     "output_type": "stream",
     "text": [
      "                        production_index flags  production_index_float\n",
      "time       country_code                                               \n",
      "2016-09-01 AT                     113.7                          113.7\n",
      "2016-10-01 AT                     114.7                          114.7\n",
      "2016-11-01 AT                     116.4                          116.4\n",
      "2016-12-01 AT                     115.6                          115.6\n",
      "2017-01-01 AT                     113.2                          113.2\n",
      "2017-02-01 AT                     116.5                          116.5\n",
      "2017-03-01 AT                     117.5                          117.5\n",
      "2017-04-01 AT                     117.6                          117.6\n",
      "2017-05-01 AT                     117.3                          117.3\n",
      "2017-06-01 AT                     118.2                          118.2\n",
      "2017-07-01 AT                    119.9 p     p                   119.9\n",
      "2017-08-01 AT                         :                            NaN\n"
     ]
    }
   ],
   "source": [
    "df['production_index_float'] = df['production_index'].apply(get_number)\n",
    "print(df.loc[(slice('2016-09','2017-08'),'AT'),:])"
   ]
  },
  {
   "cell_type": "markdown",
   "metadata": {},
   "source": [
    "Last but not least, I can replace the old \"production_index\" string column with the new float column and then get rid of the duplicate column:"
   ]
  },
  {
   "cell_type": "code",
   "execution_count": 12,
   "metadata": {},
   "outputs": [
    {
     "name": "stdout",
     "output_type": "stream",
     "text": [
      "                         production_index flags\n",
      "time       country_code                        \n",
      "2016-09-01 AT                       113.7      \n",
      "2016-10-01 AT                       114.7      \n",
      "2016-11-01 AT                       116.4      \n",
      "2016-12-01 AT                       115.6      \n",
      "2017-01-01 AT                       113.2      \n",
      "2017-02-01 AT                       116.5      \n",
      "2017-03-01 AT                       117.5      \n",
      "2017-04-01 AT                       117.6      \n",
      "2017-05-01 AT                       117.3      \n",
      "2017-06-01 AT                       118.2      \n",
      "2017-07-01 AT                       119.9     p\n",
      "2017-08-01 AT                         NaN      \n",
      "<class 'pandas.core.frame.DataFrame'>\n",
      "MultiIndex: 27936 entries, (1953-01-01 00:00:00, AT) to (2017-08-01 00:00:00, UK)\n",
      "Data columns (total 2 columns):\n",
      "production_index    8744 non-null float64\n",
      "flags               27936 non-null category\n",
      "dtypes: category(1), float64(1)\n",
      "memory usage: 355.2+ KB\n",
      "None\n"
     ]
    }
   ],
   "source": [
    "df['production_index'] = df['production_index_float']\n",
    "df.drop('production_index_float', axis=1, inplace=True)\n",
    "print(df.loc[(slice('2016-09','2017-08'),'AT'),:])\n",
    "print(df.info())"
   ]
  },
  {
   "cell_type": "markdown",
   "metadata": {},
   "source": [
    "This is the clean dataframe with the fixed variables \"time\" (datetimes) and \"country_code\" (strings) as the MultiIndex, and the measured variables \"production_index\" (floats) and \"flags\" (categorical) as data columns.\n",
    "\n",
    "I store the clean dataframe in a pickled file:"
   ]
  },
  {
   "cell_type": "code",
   "execution_count": 13,
   "metadata": {
    "collapsed": true
   },
   "outputs": [],
   "source": [
    "df.to_pickle('EU_industry_production_dataframe_clean.pkl')"
   ]
  }
 ],
 "metadata": {
  "kernelspec": {
   "display_name": "Python 3",
   "language": "python",
   "name": "python3"
  },
  "language_info": {
   "codemirror_mode": {
    "name": "ipython",
    "version": 3
   },
   "file_extension": ".py",
   "mimetype": "text/x-python",
   "name": "python",
   "nbconvert_exporter": "python",
   "pygments_lexer": "ipython3",
   "version": "3.6.3"
  }
 },
 "nbformat": 4,
 "nbformat_minor": 2
}
