{
 "cells": [
  {
   "cell_type": "markdown",
   "metadata": {},
   "source": [
    "I read in the dataframe that I previously prepared for linear regression:"
   ]
  },
  {
   "cell_type": "code",
   "execution_count": 1,
   "metadata": {},
   "outputs": [
    {
     "name": "stdout",
     "output_type": "stream",
     "text": [
      "<class 'pandas.core.frame.DataFrame'>\n",
      "Float64Index: 212 entries, -10.0013689254 to 7.58110882957\n",
      "Data columns (total 36 columns):\n",
      "AT      211 non-null float64\n",
      "BA      139 non-null float64\n",
      "BE      211 non-null float64\n",
      "BG      211 non-null float64\n",
      "CY      211 non-null float64\n",
      "CZ      211 non-null float64\n",
      "DE      211 non-null float64\n",
      "DK      211 non-null float64\n",
      "EA19    211 non-null float64\n",
      "EE      211 non-null float64\n",
      "EL      211 non-null float64\n",
      "ES      211 non-null float64\n",
      "EU28    211 non-null float64\n",
      "FI      211 non-null float64\n",
      "FR      211 non-null float64\n",
      "HR      211 non-null float64\n",
      "HU      211 non-null float64\n",
      "IE      211 non-null float64\n",
      "IT      211 non-null float64\n",
      "LT      211 non-null float64\n",
      "LU      211 non-null float64\n",
      "LV      211 non-null float64\n",
      "ME      91 non-null float64\n",
      "MK      211 non-null float64\n",
      "MT      211 non-null float64\n",
      "NL      211 non-null float64\n",
      "NO      211 non-null float64\n",
      "PL      211 non-null float64\n",
      "PT      211 non-null float64\n",
      "RO      211 non-null float64\n",
      "RS      211 non-null float64\n",
      "SE      211 non-null float64\n",
      "SI      211 non-null float64\n",
      "SK      211 non-null float64\n",
      "TR      211 non-null float64\n",
      "UK      211 non-null float64\n",
      "dtypes: float64(36)\n",
      "memory usage: 61.3 KB\n",
      "country_code        AT  BA        BE        BG        CY        CZ        DE  \\\n",
      "time                                                                           \n",
      "-10.001369    0.763119 NaN  0.659628  0.638720  1.076730  0.609450  0.882291   \n",
      "-9.916496     0.804837 NaN  0.675563  0.650542  1.094662  0.628649  0.900751   \n",
      "-9.837098     0.799001 NaN  0.682480  0.650229  1.071577  0.636704  0.900957   \n",
      "-9.752225     0.806887 NaN  0.703174  0.646132  1.076540  0.650280  0.909562   \n",
      "-9.670089     0.819436 NaN  0.705168  0.643401  1.054149  0.660902  0.923410   \n",
      "\n",
      "country_code        DK      EA19        EE    ...           NO        PL  \\\n",
      "time                                          ...                          \n",
      "-10.001369    1.108091  1.015053  0.577044    ...     0.993101  0.510140   \n",
      "-9.916496     1.097790  1.027940  0.606756    ...     0.988324  0.521268   \n",
      "-9.837098     1.114232  1.029963  0.587807    ...     0.989388  0.516022   \n",
      "-9.752225     1.093134  1.036092  0.602572    ...     0.984236  0.533084   \n",
      "-9.670089     1.179741  1.043854  0.593988    ...     0.957381  0.542516   \n",
      "\n",
      "country_code        PT        RO        RS        SE        SI        SK  \\\n",
      "time                                                                       \n",
      "-10.001369    1.266987  0.752666  0.963830  0.950240  0.822705  0.461008   \n",
      "-9.916496     1.256255  0.753753  1.083194  0.987281  0.845496  0.473311   \n",
      "-9.837098     1.190179  0.771952  1.087183  0.995630  0.857262  0.487932   \n",
      "-9.752225     1.176105  0.781995  1.097283  1.015350  0.854594  0.490562   \n",
      "-9.670089     1.220918  0.779288  1.089150  1.019148  0.866790  0.456043   \n",
      "\n",
      "country_code        TR        UK  \n",
      "time                              \n",
      "-10.001369    0.614677  1.116454  \n",
      "-9.916496     0.631776  1.129066  \n",
      "-9.837098     0.616937  1.125676  \n",
      "-9.752225     0.643020  1.116988  \n",
      "-9.670089     0.644431  1.113856  \n",
      "\n",
      "[5 rows x 36 columns]\n"
     ]
    }
   ],
   "source": [
    "import pandas as pd\n",
    "df = pd.read_pickle('EU_industry_production_dataframe_forregression.pkl')\n",
    "df.info()\n",
    "print(df.head())"
   ]
  },
  {
   "cell_type": "markdown",
   "metadata": {},
   "source": [
    "Note that Bosnia and Herzegovina ('BA') and Montenegro ('ME') have many missing values, since their time series do not start in 2000, but later.\n",
    "\n",
    "The fitting routine for the linear model in scikit-learn does not accept NaN values though, so I need to account for that. Because only two countries are affected (which are not even in the EU), I simply drop them:"
   ]
  },
  {
   "cell_type": "code",
   "execution_count": 2,
   "metadata": {},
   "outputs": [],
   "source": [
    "df.drop(['BA','ME'], axis=1, inplace=True)"
   ]
  },
  {
   "cell_type": "markdown",
   "metadata": {},
   "source": [
    "In addition, all the other time series have only 211 non-null entries out of 212 values in total. These single NaN entries are the latest data point for each country. I drop them as well and get nice NaN-free time series:"
   ]
  },
  {
   "cell_type": "code",
   "execution_count": 3,
   "metadata": {},
   "outputs": [
    {
     "name": "stdout",
     "output_type": "stream",
     "text": [
      "<class 'pandas.core.frame.DataFrame'>\n",
      "Float64Index: 211 entries, -10.0013689254 to 7.49623545517\n",
      "Data columns (total 34 columns):\n",
      "AT      211 non-null float64\n",
      "BE      211 non-null float64\n",
      "BG      211 non-null float64\n",
      "CY      211 non-null float64\n",
      "CZ      211 non-null float64\n",
      "DE      211 non-null float64\n",
      "DK      211 non-null float64\n",
      "EA19    211 non-null float64\n",
      "EE      211 non-null float64\n",
      "EL      211 non-null float64\n",
      "ES      211 non-null float64\n",
      "EU28    211 non-null float64\n",
      "FI      211 non-null float64\n",
      "FR      211 non-null float64\n",
      "HR      211 non-null float64\n",
      "HU      211 non-null float64\n",
      "IE      211 non-null float64\n",
      "IT      211 non-null float64\n",
      "LT      211 non-null float64\n",
      "LU      211 non-null float64\n",
      "LV      211 non-null float64\n",
      "MK      211 non-null float64\n",
      "MT      211 non-null float64\n",
      "NL      211 non-null float64\n",
      "NO      211 non-null float64\n",
      "PL      211 non-null float64\n",
      "PT      211 non-null float64\n",
      "RO      211 non-null float64\n",
      "RS      211 non-null float64\n",
      "SE      211 non-null float64\n",
      "SI      211 non-null float64\n",
      "SK      211 non-null float64\n",
      "TR      211 non-null float64\n",
      "UK      211 non-null float64\n",
      "dtypes: float64(34)\n",
      "memory usage: 57.7 KB\n",
      "None\n"
     ]
    }
   ],
   "source": [
    "df.drop(df.index[-1], inplace=True)\n",
    "print(df.info())"
   ]
  },
  {
   "cell_type": "markdown",
   "metadata": {},
   "source": [
    "Next, I import the \"linear_model\" class from scikit-learn:"
   ]
  },
  {
   "cell_type": "code",
   "execution_count": 4,
   "metadata": {},
   "outputs": [],
   "source": [
    "from sklearn import linear_model"
   ]
  },
  {
   "cell_type": "markdown",
   "metadata": {},
   "source": [
    "Before actually performing the linear regression, I need to bring the dataset in a form that is recognized by scikit-learn. The fitting method takes two parameters: the input X and the output y.\n",
    "\n",
    "X can be identified with the dependent variables, which is just one in this case, namely the time.\n",
    "\n",
    "y is the outcome, that is the normalized industry production index.\n",
    "\n",
    "The input X has to be a 2D array and is the same for all countries, so I assign it right away:"
   ]
  },
  {
   "cell_type": "code",
   "execution_count": 5,
   "metadata": {},
   "outputs": [
    {
     "name": "stdout",
     "output_type": "stream",
     "text": [
      "(211,)\n",
      "(211, 1)\n"
     ]
    }
   ],
   "source": [
    "X = df.index.values                # Get numpy array of index (time stamps in years)\n",
    "print(X.shape)\n",
    "\n",
    "X = X.reshape(-1, 1)               # Transform numpy array from 1D to 2D\n",
    "print(X.shape)"
   ]
  },
  {
   "cell_type": "markdown",
   "metadata": {},
   "source": [
    "The output y is different for each country, so I will loop over all countries and perform separate linear regressions.\n",
    "\n",
    "I can get the country codes as a list by extracting all the column names from the dataframe:"
   ]
  },
  {
   "cell_type": "code",
   "execution_count": 6,
   "metadata": {},
   "outputs": [
    {
     "name": "stdout",
     "output_type": "stream",
     "text": [
      "['AT' 'BE' 'BG' 'CY' 'CZ' 'DE' 'DK' 'EA19' 'EE' 'EL' 'ES' 'EU28' 'FI' 'FR'\n",
      " 'HR' 'HU' 'IE' 'IT' 'LT' 'LU' 'LV' 'MK' 'MT' 'NL' 'NO' 'PL' 'PT' 'RO' 'RS'\n",
      " 'SE' 'SI' 'SK' 'TR' 'UK']\n"
     ]
    }
   ],
   "source": [
    "country_list = df.columns.values   # Get list of all country codes\n",
    "print(country_list)"
   ]
  },
  {
   "cell_type": "markdown",
   "metadata": {},
   "source": [
    "Now I loop over all countries. In each step, I assign the normalized industry production values to y, perform the linear regression, and store the slope and intercept values in numpy arrays:"
   ]
  },
  {
   "cell_type": "code",
   "execution_count": 7,
   "metadata": {},
   "outputs": [],
   "source": [
    "import numpy as np\n",
    "\n",
    "slope = np.empty(len(country_list))         # Create empty array for slopes from linear regression\n",
    "intercept = np.empty(len(country_list))     # Create empty array for intercept from linear regression\n",
    "\n",
    "# Loop over all countries:\n",
    "for i, country in enumerate(country_list):\n",
    "    y = df[country].values                  # Get industry production index values for selected country\n",
    "    regr = linear_model.LinearRegression()  # Instantiate linear regression object\n",
    "    regr.fit(X, y)                          # Perform linear regression (fit straight line)\n",
    "    slope[i] = regr.coef_[0]                # Store slope in array (first and only coefficient)\n",
    "    intercept[i] = regr.intercept_          # Store intercept in array"
   ]
  },
  {
   "cell_type": "markdown",
   "metadata": {},
   "source": [
    "Let's have a look at the parameter values that I obtained from the linear regression:"
   ]
  },
  {
   "cell_type": "code",
   "execution_count": 8,
   "metadata": {},
   "outputs": [
    {
     "name": "stdout",
     "output_type": "stream",
     "text": [
      "[  1.69755062e-02   2.27397515e-02   2.33266960e-02  -2.73036128e-02\n",
      "   3.01791696e-02   1.10648741e-02  -2.54430214e-03  -2.06856083e-03\n",
      "   4.36360429e-02  -3.08404991e-02  -2.61402287e-02   3.36143245e-05\n",
      "  -3.74731167e-03  -1.69121515e-02   8.05852423e-04   2.80566577e-02\n",
      "   3.92839139e-02  -2.34791885e-02   3.66338076e-02  -6.37034263e-03\n",
      "   2.77396054e-02   1.52164653e-02  -8.32050455e-03   5.89524088e-03\n",
      "   6.97164004e-03   4.64402255e-02  -2.25316217e-02   3.60324141e-02\n",
      "  -6.70048827e-04  -9.21470009e-03   9.93230550e-03   5.91275559e-02\n",
      "   3.89830067e-02  -7.94040227e-03]\n",
      "[ 0.97951101  0.93506694  1.00117521  0.90635968  0.98434731  0.98850886\n",
      "  1.07562782  1.00401122  1.06813739  1.01401165  1.03302358  1.00149184\n",
      "  0.97096251  1.03319856  0.95866234  0.98838774  1.04417995  1.00206516\n",
      "  1.02512619  0.99293733  1.06671794  1.07534489  0.9701639   0.96239976\n",
      "  0.96680512  0.92858528  1.04249824  1.02776252  1.01763429  0.974905\n",
      "  0.97854261  0.99558271  0.98038008  1.00006333]\n"
     ]
    }
   ],
   "source": [
    "print(slope)\n",
    "print(intercept)"
   ]
  },
  {
   "cell_type": "markdown",
   "metadata": {},
   "source": [
    "As a simple measure to check for the robustness of the slope values, I also calculate the slope using an alternative method, namely the difference between the last and the first production index values of the time series, divided by the length of the time series in years.\n",
    "\n",
    "To reduce the influence of the short-time fluctuations, I average over the five first and last values instead of just taking one value each:"
   ]
  },
  {
   "cell_type": "code",
   "execution_count": 9,
   "metadata": {
    "collapsed": true
   },
   "outputs": [],
   "source": [
    "slope_alt = np.empty(len(country_list))     # Create empty array for slopes from difference end of time series minus beginning\n",
    "\n",
    "# Loop over all countries:\n",
    "for i, country in enumerate(country_list):\n",
    "    y = df[country].values                  # Get industry production index values for selected country\n",
    "    slope_alt[i] = (y[-5:].mean() - y[:5].mean())/(X[-1,0] - X[0,0])      # Store slope in array"
   ]
  },
  {
   "cell_type": "markdown",
   "metadata": {},
   "source": [
    "Let me also print the alternative slope values:"
   ]
  },
  {
   "cell_type": "code",
   "execution_count": 10,
   "metadata": {},
   "outputs": [
    {
     "name": "stdout",
     "output_type": "stream",
     "text": [
      "[ 0.01540618  0.0203894   0.02858958 -0.01814415  0.03178366  0.00758084\n",
      "  0.00022828 -0.00215899  0.04310238 -0.02575114 -0.02014504 -0.00021196\n",
      " -0.0016687  -0.01616444  0.00645503  0.0299987   0.04527303 -0.02057385\n",
      "  0.03709763 -0.00015542  0.03415784  0.00874983 -0.0112554   0.0037613\n",
      " -0.00294682  0.04093304 -0.01623621  0.03449866  0.00147644 -0.00471612\n",
      "  0.01575481  0.05198007  0.03306995 -0.01023881]\n"
     ]
    }
   ],
   "source": [
    "print(slope_alt)"
   ]
  },
  {
   "cell_type": "markdown",
   "metadata": {},
   "source": [
    "Let's now create a new dataframe containing the two slope estimates and the intercept from the linear regression:"
   ]
  },
  {
   "cell_type": "code",
   "execution_count": 11,
   "metadata": {},
   "outputs": [
    {
     "name": "stdout",
     "output_type": "stream",
     "text": [
      "<class 'pandas.core.frame.DataFrame'>\n",
      "Index: 34 entries, AT to UK\n",
      "Data columns (total 3 columns):\n",
      "intercept    34 non-null float64\n",
      "slope        34 non-null float64\n",
      "slope_alt    34 non-null float64\n",
      "dtypes: float64(3)\n",
      "memory usage: 1.1+ KB\n",
      "None\n",
      "              intercept     slope  slope_alt\n",
      "country_code                                \n",
      "AT             0.979511  0.016976   0.015406\n",
      "BE             0.935067  0.022740   0.020389\n",
      "BG             1.001175  0.023327   0.028590\n",
      "CY             0.906360 -0.027304  -0.018144\n",
      "CZ             0.984347  0.030179   0.031784\n"
     ]
    }
   ],
   "source": [
    "# Put data in dictionary:\n",
    "slope_dict = {'country_code':country_list, 'slope':slope, 'intercept':intercept, 'slope_alt':slope_alt}\n",
    "\n",
    "# Construct dataframe from dictionary:\n",
    "df_slopes = pd.DataFrame(slope_dict)\n",
    "\n",
    "# Choose country_code column as index:\n",
    "df_slopes.set_index('country_code', inplace=True)\n",
    "\n",
    "print(df_slopes.info())\n",
    "print(df_slopes.head())"
   ]
  },
  {
   "cell_type": "markdown",
   "metadata": {},
   "source": [
    "This dataframe contains the slopes for each country. I will visually explore and analyze them in the next project.\n",
    "\n",
    "For now, I end by saving the dataframe in a pickled file:"
   ]
  },
  {
   "cell_type": "code",
   "execution_count": 12,
   "metadata": {
    "collapsed": true
   },
   "outputs": [],
   "source": [
    "df_slopes.to_pickle('EU_industry_production_slopes.pkl')"
   ]
  }
 ],
 "metadata": {
  "kernelspec": {
   "display_name": "Python 3",
   "language": "python",
   "name": "python3"
  },
  "language_info": {
   "codemirror_mode": {
    "name": "ipython",
    "version": 3
   },
   "file_extension": ".py",
   "mimetype": "text/x-python",
   "name": "python",
   "nbconvert_exporter": "python",
   "pygments_lexer": "ipython3",
   "version": "3.6.3"
  }
 },
 "nbformat": 4,
 "nbformat_minor": 2
}
